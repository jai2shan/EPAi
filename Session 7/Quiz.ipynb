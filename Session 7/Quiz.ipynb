{
  "nbformat": 4,
  "nbformat_minor": 0,
  "metadata": {
    "colab": {
      "name": "Untitled29.ipynb",
      "provenance": [],
      "authorship_tag": "ABX9TyOu4TaCbCMkVBQoBmJnX0rn",
      "include_colab_link": true
    },
    "kernelspec": {
      "name": "python3",
      "display_name": "Python 3"
    }
  },
  "cells": [
    {
      "cell_type": "markdown",
      "metadata": {
        "id": "view-in-github",
        "colab_type": "text"
      },
      "source": [
        "<a href=\"https://colab.research.google.com/github/jai2shan/EPAi/blob/master/Session%207/Quiz.ipynb\" target=\"_parent\"><img src=\"https://colab.research.google.com/assets/colab-badge.svg\" alt=\"Open In Colab\"/></a>"
      ]
    },
    {
      "cell_type": "code",
      "metadata": {
        "id": "ildzQvXuEk4I",
        "colab_type": "code",
        "colab": {
          "base_uri": "https://localhost:8080/",
          "height": 34
        },
        "outputId": "3a47c561-9ef0-4afb-90ea-406b0665714e"
      },
      "source": [
        "from datetime import datetime\n",
        "print(datetime.now())"
      ],
      "execution_count": 1,
      "outputs": [
        {
          "output_type": "stream",
          "text": [
            "2020-09-05 07:02:13.929709\n"
          ],
          "name": "stdout"
        }
      ]
    },
    {
      "cell_type": "code",
      "metadata": {
        "id": "01JA0tiHGlvy",
        "colab_type": "code",
        "colab": {}
      },
      "source": [
        ""
      ],
      "execution_count": 5,
      "outputs": []
    },
    {
      "cell_type": "code",
      "metadata": {
        "id": "zqWUCsliEnqZ",
        "colab_type": "code",
        "colab": {
          "base_uri": "https://localhost:8080/",
          "height": 454
        },
        "outputId": "6b28824f-bf95-4f9f-9264-f6e945cb533c"
      },
      "source": [
        "import random\n",
        "\n",
        "def date_of_birth():\n",
        "  month = list(range(1,13))\n",
        "  month_id = 'Jan Feb Mar Apr May Jun Jul Aug Sep Oct Nov Dec'.split(' ')\n",
        "  month = dict(zip(month,month_id))\n",
        "\n",
        "  months = random.randint(1,12)\n",
        "  year = random.randint(1901,2020)\n",
        "  if months in [1,3,5,7,8,10,12]:\n",
        "    date = random.randint(1,31)\n",
        "  elif months in [4,6,9,11]:\n",
        "    date = random.randint(1,30)\n",
        "  else:\n",
        "    if year%4==0:\n",
        "      date = random.randint(1,29)\n",
        "    else:\n",
        "      date = random.randint(1,28)\n",
        "\n",
        "  if date%10 ==1:\n",
        "    date = str(date)+'st'\n",
        "  elif date%10 == 2:\n",
        "    date = str(date)+'nd'\n",
        "  elif date%10 == 3:\n",
        "    date = str(date)+'rd'\n",
        "  else:\n",
        "    date = str(date)+'th'\n",
        "  result = date+','+month[months]+','+str(year)\n",
        "\n",
        "  return result  \n",
        "  \n",
        "\n",
        "\n",
        "\n",
        "[date_of_birth() for i in range(26)]"
      ],
      "execution_count": 31,
      "outputs": [
        {
          "output_type": "execute_result",
          "data": {
            "text/plain": [
              "['11st,May,1932',\n",
              " '25th,Sep,1982',\n",
              " '1st,Feb,1962',\n",
              " '25th,Aug,1904',\n",
              " '20th,Feb,1993',\n",
              " '26th,May,1944',\n",
              " '18th,Dec,1945',\n",
              " '1st,Sep,2006',\n",
              " '5th,Apr,2001',\n",
              " '13rd,May,1970',\n",
              " '18th,Apr,1909',\n",
              " '14th,May,1901',\n",
              " '12nd,May,1952',\n",
              " '29th,Feb,1976',\n",
              " '4th,Nov,1957',\n",
              " '21st,Feb,1948',\n",
              " '8th,May,2020',\n",
              " '24th,Oct,1911',\n",
              " '11st,Nov,1978',\n",
              " '25th,Jun,2003',\n",
              " '19th,Dec,2011',\n",
              " '18th,Oct,1960',\n",
              " '24th,Dec,1905',\n",
              " '18th,Nov,2020',\n",
              " '15th,Jun,1932',\n",
              " '9th,Aug,1967']"
            ]
          },
          "metadata": {
            "tags": []
          },
          "execution_count": 31
        }
      ]
    },
    {
      "cell_type": "code",
      "metadata": {
        "id": "SO_eEwz8HTQL",
        "colab_type": "code",
        "colab": {
          "base_uri": "https://localhost:8080/",
          "height": 34
        },
        "outputId": "278710a9-2545-47e8-8c2c-b69c00724a04"
      },
      "source": [
        "from datetime import datetime\n",
        "print(datetime.now())"
      ],
      "execution_count": 32,
      "outputs": [
        {
          "output_type": "stream",
          "text": [
            "2020-09-05 07:22:13.262797\n"
          ],
          "name": "stdout"
        }
      ]
    },
    {
      "cell_type": "code",
      "metadata": {
        "id": "WEBQojYIHr63",
        "colab_type": "code",
        "colab": {}
      },
      "source": [
        ""
      ],
      "execution_count": 32,
      "outputs": []
    },
    {
      "cell_type": "code",
      "metadata": {
        "id": "mjcwmfbYHs6m",
        "colab_type": "code",
        "colab": {}
      },
      "source": [
        ""
      ],
      "execution_count": 32,
      "outputs": []
    },
    {
      "cell_type": "code",
      "metadata": {
        "id": "g_XtSN-EHwQW",
        "colab_type": "code",
        "colab": {}
      },
      "source": [
        ""
      ],
      "execution_count": 32,
      "outputs": []
    }
  ]
}