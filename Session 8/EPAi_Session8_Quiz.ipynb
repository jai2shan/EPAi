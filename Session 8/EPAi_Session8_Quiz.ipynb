{
  "nbformat": 4,
  "nbformat_minor": 0,
  "metadata": {
    "colab": {
      "name": "EPAi Session8 - Quiz.ipynb",
      "provenance": [],
      "collapsed_sections": [],
      "authorship_tag": "ABX9TyNdZusboet21RG9AlWVdeQK",
      "include_colab_link": true
    },
    "kernelspec": {
      "name": "python3",
      "display_name": "Python 3"
    }
  },
  "cells": [
    {
      "cell_type": "markdown",
      "metadata": {
        "id": "view-in-github",
        "colab_type": "text"
      },
      "source": [
        "<a href=\"https://colab.research.google.com/github/jai2shan/EPAi/blob/master/Session%208/EPAi_Session8_Quiz.ipynb\" target=\"_parent\"><img src=\"https://colab.research.google.com/assets/colab-badge.svg\" alt=\"Open In Colab\"/></a>"
      ]
    },
    {
      "cell_type": "code",
      "metadata": {
        "id": "iwEdsk1dIiG9",
        "colab_type": "code",
        "colab": {}
      },
      "source": [
        "def session8_quiz(fn,u_dict):\n",
        "    \"\"\"\n",
        "    :param fn: Function that needs to be counted\n",
        "    :return: closure that can count number of times a function is executed and store\n",
        "    the same in dictionary at user level\n",
        "    We wrote a closure that counts how many times a function was called. Write a new one\n",
        "    that can keep a track of how many times add/mul/div functions were called, and update\n",
        "     a global dictionary variable with the counts\n",
        "    \"\"\"\n",
        "    \n",
        "    u_dict[fn.__name__] = 0\n",
        "\n",
        "    def inner(*args, **kwargs):\n",
        "        nonlocal u_dict\n",
        "        u_dict[fn.__name__] += 1\n",
        "        print('{0} has been called {1} times'.format(fn.__name__, u_dict[fn.__name__]))\n",
        "        return fn(*args, **kwargs)\n",
        "\n",
        "    return inner\n",
        "\n",
        "def onClick1():\n",
        "    \"\"\"\n",
        "    Clicks button 1\n",
        "    \"\"\"\n",
        "    print('Button 1 is clicked')\n",
        "\n",
        "def onClick2():\n",
        "    \"\"\"\n",
        "    Clicks button 2\n",
        "    \"\"\"\n",
        "    print('Button 2 is clicked')\n",
        "\n",
        "def onClick3():\n",
        "    \"\"\"\n",
        "    Clicks button 3\n",
        "    \"\"\"\n",
        "    print('Button 3 is clicked')\n",
        "\n",
        "def onClick4():\n",
        "    \"\"\"\n",
        "    Clicks button 4\n",
        "    \"\"\"\n",
        "    print('Button 4 is clicked')"
      ],
      "execution_count": 1,
      "outputs": []
    },
    {
      "cell_type": "code",
      "metadata": {
        "id": "7Fp3ly2BJgbN",
        "colab_type": "code",
        "colab": {}
      },
      "source": [
        "u_dict = dict()\n",
        "counter1 = session8_quiz(onClick1,u_dict)\n",
        "counter2 = session8_quiz(onClick2,u_dict)\n",
        "counter3 = session8_quiz(onClick3,u_dict)\n",
        "counter4 = session8_quiz(onClick4,u_dict)"
      ],
      "execution_count": 2,
      "outputs": []
    },
    {
      "cell_type": "code",
      "metadata": {
        "id": "-QuXoja-JkDK",
        "colab_type": "code",
        "colab": {
          "base_uri": "https://localhost:8080/",
          "height": 1000
        },
        "outputId": "005d612c-3d1e-422c-e5ae-25c48bc7575b"
      },
      "source": [
        "for i in range(40):\n",
        "    if i%4 == 0:\n",
        "        counter1()\n",
        "    elif i%4 == 1:\n",
        "        counter2()\n",
        "    elif i%4 == 2:\n",
        "        counter3()\n",
        "    else:\n",
        "        counter4()"
      ],
      "execution_count": 3,
      "outputs": [
        {
          "output_type": "stream",
          "text": [
            "onClick1 has been called 1 times\n",
            "Button 1 is clicked\n",
            "onClick2 has been called 1 times\n",
            "Button 2 is clicked\n",
            "onClick3 has been called 1 times\n",
            "Button 3 is clicked\n",
            "onClick4 has been called 1 times\n",
            "Button 4 is clicked\n",
            "onClick1 has been called 2 times\n",
            "Button 1 is clicked\n",
            "onClick2 has been called 2 times\n",
            "Button 2 is clicked\n",
            "onClick3 has been called 2 times\n",
            "Button 3 is clicked\n",
            "onClick4 has been called 2 times\n",
            "Button 4 is clicked\n",
            "onClick1 has been called 3 times\n",
            "Button 1 is clicked\n",
            "onClick2 has been called 3 times\n",
            "Button 2 is clicked\n",
            "onClick3 has been called 3 times\n",
            "Button 3 is clicked\n",
            "onClick4 has been called 3 times\n",
            "Button 4 is clicked\n",
            "onClick1 has been called 4 times\n",
            "Button 1 is clicked\n",
            "onClick2 has been called 4 times\n",
            "Button 2 is clicked\n",
            "onClick3 has been called 4 times\n",
            "Button 3 is clicked\n",
            "onClick4 has been called 4 times\n",
            "Button 4 is clicked\n",
            "onClick1 has been called 5 times\n",
            "Button 1 is clicked\n",
            "onClick2 has been called 5 times\n",
            "Button 2 is clicked\n",
            "onClick3 has been called 5 times\n",
            "Button 3 is clicked\n",
            "onClick4 has been called 5 times\n",
            "Button 4 is clicked\n",
            "onClick1 has been called 6 times\n",
            "Button 1 is clicked\n",
            "onClick2 has been called 6 times\n",
            "Button 2 is clicked\n",
            "onClick3 has been called 6 times\n",
            "Button 3 is clicked\n",
            "onClick4 has been called 6 times\n",
            "Button 4 is clicked\n",
            "onClick1 has been called 7 times\n",
            "Button 1 is clicked\n",
            "onClick2 has been called 7 times\n",
            "Button 2 is clicked\n",
            "onClick3 has been called 7 times\n",
            "Button 3 is clicked\n",
            "onClick4 has been called 7 times\n",
            "Button 4 is clicked\n",
            "onClick1 has been called 8 times\n",
            "Button 1 is clicked\n",
            "onClick2 has been called 8 times\n",
            "Button 2 is clicked\n",
            "onClick3 has been called 8 times\n",
            "Button 3 is clicked\n",
            "onClick4 has been called 8 times\n",
            "Button 4 is clicked\n",
            "onClick1 has been called 9 times\n",
            "Button 1 is clicked\n",
            "onClick2 has been called 9 times\n",
            "Button 2 is clicked\n",
            "onClick3 has been called 9 times\n",
            "Button 3 is clicked\n",
            "onClick4 has been called 9 times\n",
            "Button 4 is clicked\n",
            "onClick1 has been called 10 times\n",
            "Button 1 is clicked\n",
            "onClick2 has been called 10 times\n",
            "Button 2 is clicked\n",
            "onClick3 has been called 10 times\n",
            "Button 3 is clicked\n",
            "onClick4 has been called 10 times\n",
            "Button 4 is clicked\n"
          ],
          "name": "stdout"
        }
      ]
    },
    {
      "cell_type": "code",
      "metadata": {
        "id": "IpBvIxMDJke5",
        "colab_type": "code",
        "colab": {
          "base_uri": "https://localhost:8080/",
          "height": 34
        },
        "outputId": "777ebe9b-b94d-4a53-8352-6a2f792fd7e3"
      },
      "source": [
        "u_dict"
      ],
      "execution_count": 4,
      "outputs": [
        {
          "output_type": "execute_result",
          "data": {
            "text/plain": [
              "{'onClick1': 10, 'onClick2': 10, 'onClick3': 10, 'onClick4': 10}"
            ]
          },
          "metadata": {
            "tags": []
          },
          "execution_count": 4
        }
      ]
    },
    {
      "cell_type": "code",
      "metadata": {
        "id": "N_5efzdaJmLU",
        "colab_type": "code",
        "colab": {}
      },
      "source": [
        ""
      ],
      "execution_count": null,
      "outputs": []
    }
  ]
}