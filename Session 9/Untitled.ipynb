{
 "cells": [
  {
   "cell_type": "code",
   "execution_count": 1,
   "metadata": {},
   "outputs": [
    {
     "name": "stdout",
     "output_type": "stream",
     "text": [
      "1.0447262\n",
      "1.0447596\n",
      "1.0447679\n",
      "1.0448093\n",
      "1.0449469\n",
      "1.0449608\n",
      "1.0449686\n",
      "1.0449913\n",
      "1.0450152\n",
      "1.0450243\n",
      "1.0450335\n",
      "1.0450426\n",
      "1.0450517\n",
      "1.0450607\n",
      "1.0451979\n",
      "1.0452414\n",
      "1.0452532\n",
      "1.0452658\n",
      "1.0452892\n",
      "1.045296\n"
     ]
    }
   ],
   "source": []
  },
  {
   "cell_type": "code",
   "execution_count": null,
   "metadata": {},
   "outputs": [],
   "source": []
  }
 ],
 "metadata": {
  "kernelspec": {
   "display_name": "Python 3",
   "language": "python",
   "name": "python3"
  },
  "language_info": {
   "codemirror_mode": {
    "name": "ipython",
    "version": 3
   },
   "file_extension": ".py",
   "mimetype": "text/x-python",
   "name": "python",
   "nbconvert_exporter": "python",
   "pygments_lexer": "ipython3",
   "version": "3.8.3"
  }
 },
 "nbformat": 4,
 "nbformat_minor": 4
}
